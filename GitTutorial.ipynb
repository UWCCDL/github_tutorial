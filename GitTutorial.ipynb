{
 "cells": [
  {
   "cell_type": "markdown",
   "metadata": {},
   "source": [
    "# Git/GitHub Tutorial\n",
    "\n",
    "\n",
    "## Git vs GitHub\n",
    "\n",
    "**Git** is the software, **GitHub** is the cloud hosting service. That is, you can use **Git** to track changes *locally* and never have to do anything with **GitHub**. \n",
    "\n",
    "Of course, by using **Git** with **GitHub** you get the peace of mind that comes with backing up your project to the cloud, as well as the easy abilty to share code with others, and work collaboratively on the same project. \n",
    "\n",
    "Let's start with **Git**, and work up to using **GitHub**"
   ]
  },
  {
   "cell_type": "markdown",
   "metadata": {},
   "source": [
    "## Git"
   ]
  },
  {
   "cell_type": "markdown",
   "metadata": {},
   "source": [
    "If you're using **git** for the first time, take a quick second to configure your environment with your info:\n",
    "\n",
    "```\n",
    "git config --global user.name \"Jeff MacInnes\"\n",
    "git config --global user.email \"jeff.macinnes@gmail.com\"\n",
    "```"
   ]
  },
  {
   "cell_type": "markdown",
   "metadata": {},
   "source": [
    "## Git\n",
    "\n",
    "### Create a Git repository\n",
    "We'll start by creating a new directory for our project, named *myProject*"
   ]
  },
  {
   "cell_type": "code",
   "execution_count": null,
   "metadata": {},
   "outputs": [],
   "source": [
    "cd /Users/jeff\n",
    "mkdir myProject\n",
    "cd myProject\n",
    "pwd"
   ]
  },
  {
   "cell_type": "markdown",
   "metadata": {},
   "source": [
    "Now that we've created a directory, we can set it up as a **Git** repository (or repo)"
   ]
  },
  {
   "cell_type": "code",
   "execution_count": null,
   "metadata": {},
   "outputs": [],
   "source": [
    "git init"
   ]
  },
  {
   "cell_type": "markdown",
   "metadata": {},
   "source": [
    "You can now find a hidden directory named `.git/` in the `myProject` directory. **Git** uses the `.git/` directory to log information about changes that occur to your project"
   ]
  },
  {
   "cell_type": "markdown",
   "metadata": {},
   "source": [
    "You can see the hidden git directory by typing:"
   ]
  },
  {
   "cell_type": "code",
   "execution_count": null,
   "metadata": {},
   "outputs": [],
   "source": [
    "ls -la"
   ]
  },
  {
   "cell_type": "markdown",
   "metadata": {},
   "source": [
    "Ok, but so far that's the **only** thing in our project directory. Let's start adding some files"
   ]
  },
  {
   "cell_type": "markdown",
   "metadata": {},
   "source": [
    "### Adding files to your project"
   ]
  },
  {
   "cell_type": "markdown",
   "metadata": {},
   "source": [
    "Create some quick text files to add to your project. (using the command line here, but you can do this with your favorite text editor as well. Atom, in particular, works really well with **Git/GitHub**)"
   ]
  },
  {
   "cell_type": "code",
   "execution_count": null,
   "metadata": {
    "collapsed": true
   },
   "outputs": [],
   "source": [
    "touch script1.txt\n",
    "touch script2.txt"
   ]
  },
  {
   "cell_type": "code",
   "execution_count": null,
   "metadata": {},
   "outputs": [],
   "source": [
    "ls -la"
   ]
  },
  {
   "cell_type": "markdown",
   "metadata": {},
   "source": [
    "We've got 2 new files in our project directory (script1.txt, script2.txt). But we haven't told **Git** to keep track of these files yet. This can be confirmed by running:"
   ]
  },
  {
   "cell_type": "code",
   "execution_count": null,
   "metadata": {},
   "outputs": [],
   "source": [
    "git status"
   ]
  },
  {
   "cell_type": "markdown",
   "metadata": {},
   "source": [
    "The `git status` command tells you the current status of your repository. In this case, it shows us that there are 2 new files. BUT it points out that these files aren't being **tracked**. In **git** parlance, this means that git isn't monitoring these files for any changes that may occur. \n",
    "\n",
    "Anytime you create new files, you must **add** them to the repository before **git** will start keeping track of them. \n",
    "\n",
    "You can either **add** the files one at a time, like:\n",
    "\n",
    "```\n",
    "git add script1.txt\n",
    "git add script2.txt\n",
    "```\n",
    "\n",
    "OR, you can add all of the new files at once by typing the command:"
   ]
  },
  {
   "cell_type": "code",
   "execution_count": null,
   "metadata": {
    "collapsed": true
   },
   "outputs": [],
   "source": [
    "git add *"
   ]
  },
  {
   "cell_type": "markdown",
   "metadata": {},
   "source": [
    "Now, when we check the status, we see that the 2 new files have been added, and they are ready to be committed"
   ]
  },
  {
   "cell_type": "code",
   "execution_count": null,
   "metadata": {},
   "outputs": [],
   "source": [
    "git status"
   ]
  },
  {
   "cell_type": "markdown",
   "metadata": {},
   "source": [
    "### Committing Files"
   ]
  },
  {
   "cell_type": "markdown",
   "metadata": {},
   "source": [
    "**Committing** files is like taking a snapshot of the file contents. The snapshot gets timestamped and saved in that hidden `.git/` directory. You can think of this as a bookmark that you can always go back to later. \n",
    "\n",
    "For instance, say you are working on an analysis script. It's working pretty well and you've been periodically committing your files. Then one day you try to add a new statistical model and the whole thing breaks. Rather than going back and removing your edits line by line, you can simple revert back to a prior snapshot of the code (or prior **commit**).\n",
    "\n",
    "Each time you commit, you want to include a brief message to describe the state of your project:"
   ]
  },
  {
   "cell_type": "code",
   "execution_count": null,
   "metadata": {},
   "outputs": [],
   "source": [
    "git commit -m \"added first two script files\""
   ]
  },
  {
   "cell_type": "markdown",
   "metadata": {},
   "source": [
    "At any given point in time, you can see the full **commit** history of your repository by typing:"
   ]
  },
  {
   "cell_type": "code",
   "execution_count": null,
   "metadata": {},
   "outputs": [],
   "source": [
    "git log --oneline"
   ]
  },
  {
   "cell_type": "markdown",
   "metadata": {},
   "source": [
    "Each log entry starts with a unique reference to that commit, as well as the commit message"
   ]
  },
  {
   "cell_type": "markdown",
   "metadata": {},
   "source": [
    "### Making changes to files"
   ]
  },
  {
   "cell_type": "markdown",
   "metadata": {},
   "source": [
    "Right now both of our script files are just empty text files. Let's add some stuff:"
   ]
  },
  {
   "cell_type": "code",
   "execution_count": null,
   "metadata": {
    "collapsed": true
   },
   "outputs": [],
   "source": [
    "echo \"run my analyses\" > script1.txt"
   ]
  },
  {
   "cell_type": "markdown",
   "metadata": {},
   "source": [
    "Now, when we run `git status` we see that it noticed the change we made to `script1.txt`"
   ]
  },
  {
   "cell_type": "code",
   "execution_count": null,
   "metadata": {},
   "outputs": [],
   "source": [
    "git status"
   ]
  },
  {
   "cell_type": "markdown",
   "metadata": {},
   "source": [
    "If we want to commit these changes, we first have to tell **git** to add the modified file to the staging area again:"
   ]
  },
  {
   "cell_type": "code",
   "execution_count": null,
   "metadata": {},
   "outputs": [],
   "source": [
    "git add *\n",
    "git commit -m \"added important stuff to script1.txt\""
   ]
  },
  {
   "cell_type": "markdown",
   "metadata": {},
   "source": [
    "And now when we check the log, we see both of our previous commits:"
   ]
  },
  {
   "cell_type": "code",
   "execution_count": null,
   "metadata": {},
   "outputs": [],
   "source": [
    "git log --oneline"
   ]
  },
  {
   "cell_type": "markdown",
   "metadata": {},
   "source": [
    "You can also see your log history as a tree graph (makes more sense once your project gets more complex and you begin working on separate branches)"
   ]
  },
  {
   "cell_type": "code",
   "execution_count": null,
   "metadata": {},
   "outputs": [],
   "source": [
    "git log --graph"
   ]
  },
  {
   "cell_type": "markdown",
   "metadata": {},
   "source": [
    "### Reverting back to earlier versions of your repo"
   ]
  },
  {
   "cell_type": "markdown",
   "metadata": {},
   "source": [
    "So far we've just added a single line to `script1.txt` and committed those changes. Let's continue by adding some more information to that script"
   ]
  },
  {
   "cell_type": "code",
   "execution_count": null,
   "metadata": {
    "collapsed": true
   },
   "outputs": [],
   "source": [
    "echo \"additional analyses\" >> script1.txt"
   ]
  },
  {
   "cell_type": "code",
   "execution_count": null,
   "metadata": {},
   "outputs": [],
   "source": [
    "cat script1.txt"
   ]
  },
  {
   "cell_type": "markdown",
   "metadata": {},
   "source": [
    "`script1.txt` has been modified to include the new content. We can confirm that **git** notices the changes by checking the status "
   ]
  },
  {
   "cell_type": "code",
   "execution_count": null,
   "metadata": {},
   "outputs": [],
   "source": [
    "git status"
   ]
  },
  {
   "cell_type": "markdown",
   "metadata": {},
   "source": [
    "Now commit the new changes"
   ]
  },
  {
   "cell_type": "code",
   "execution_count": null,
   "metadata": {},
   "outputs": [],
   "source": [
    "git add *\n",
    "git commit -m \"added new info to script1.txt\""
   ]
  },
  {
   "cell_type": "code",
   "execution_count": null,
   "metadata": {},
   "outputs": [],
   "source": [
    "git log --oneline"
   ]
  },
  {
   "cell_type": "markdown",
   "metadata": {},
   "source": [
    "Great! Only, imagine that the new content you just put into `script1.txt` broke your analysis and you need to go back to a previous state of your directory. \n",
    "\n",
    "You can do this using the **reset** command and referencing the commit you want to go back to. Let's go back in time to our last commit *before* we added the new content to `script1.txt`\n",
    "\n",
    "#### NOTE: there's no going back after a hard reset to previous state. \n",
    "If you are worried about losing any potential changes you've made *since* the last commit, there are better ways, albeit more complicated, ways to do this. For more information, look up \"git branching\""
   ]
  },
  {
   "cell_type": "code",
   "execution_count": null,
   "metadata": {},
   "outputs": [],
   "source": [
    "git reset --hard 672f370"
   ]
  },
  {
   "cell_type": "markdown",
   "metadata": {},
   "source": [
    "Now, script1.txt only has the original content:"
   ]
  },
  {
   "cell_type": "code",
   "execution_count": null,
   "metadata": {},
   "outputs": [],
   "source": [
    "cat script1.txt"
   ]
  },
  {
   "cell_type": "code",
   "execution_count": null,
   "metadata": {},
   "outputs": [],
   "source": [
    "git status"
   ]
  },
  {
   "cell_type": "code",
   "execution_count": null,
   "metadata": {},
   "outputs": [],
   "source": [
    "git log"
   ]
  },
  {
   "cell_type": "markdown",
   "metadata": {},
   "source": [
    "## Integrating with GitHub"
   ]
  },
  {
   "cell_type": "markdown",
   "metadata": {},
   "source": [
    "So far everything we've done is local to our computer. It's more often the case that you'll want to keep a version of your code stored remotely on a cloud. To do so, we need to link our **git** repositiories to **GitHub**. In addition to cloud storage for your ever-evolving project directories, **GitHub** also offers numerous tools for collaborative research, including the ability to have multiple individuals working on the same project simultaneously. \n",
    "\n",
    "In order to get started, sign up for a free account at [GitHub](www.github.com)"
   ]
  },
  {
   "cell_type": "markdown",
   "metadata": {},
   "source": [
    "## Starting a new repository\n",
    "\n",
    "In the steps above, we created a new project directory and started **git** tracking it by calling \n",
    "\n",
    "```\n",
    "git init\n",
    "```\n",
    "\n",
    "It's also possible (and often easier) to start a new project on your GitHub page itself. Log in to GitHub and go to **New Repository** option under the menu in the top-right corner\n"
   ]
  },
  {
   "cell_type": "markdown",
   "metadata": {},
   "source": [
    "![alt text](images/newRepo.png)"
   ]
  },
  {
   "cell_type": "markdown",
   "metadata": {},
   "source": [
    "On the next page, give your new project a name and description (optional), and make sure to **initialize it with a README** file. This is a simple markdown file that you'll find in the root level directory of every GitHub repository. This file is a helpful place to store information about your project, as it gets formatted and rendered as html on the main page of each repository: "
   ]
  },
  {
   "cell_type": "markdown",
   "metadata": {},
   "source": [
    "![altText](images/setupNew.png)"
   ]
  },
  {
   "cell_type": "markdown",
   "metadata": {},
   "source": [
    "Now you have your new repository created on GitHub, the next step is to grab a local copy of the repo on your workstation. From GitHub, copy the link that appears when you press the **Clone or download** button. "
   ]
  },
  {
   "cell_type": "markdown",
   "metadata": {},
   "source": [
    "![altText](images/gitClone.png)"
   ]
  },
  {
   "cell_type": "markdown",
   "metadata": {},
   "source": [
    "Now, on your workstation, navigate to the directory where you want to copy the repository, and then type `git clone` and paste in the copied link"
   ]
  },
  {
   "cell_type": "code",
   "execution_count": null,
   "metadata": {},
   "outputs": [],
   "source": [
    "cd /Users/jeff\n",
    "git clone https://github.com/jeffmacinnes/myNewProject.git"
   ]
  },
  {
   "cell_type": "markdown",
   "metadata": {},
   "source": [
    "Navigate into the new repository, and run `git status` to check the current status of the repo "
   ]
  },
  {
   "cell_type": "code",
   "execution_count": null,
   "metadata": {},
   "outputs": [],
   "source": [
    "cd myNewProject\n",
    "git status"
   ]
  },
  {
   "cell_type": "markdown",
   "metadata": {},
   "source": [
    "### Making changes locally, then updating the remote repository"
   ]
  },
  {
   "cell_type": "markdown",
   "metadata": {},
   "source": [
    "We can start working on our project just like we did before. Only now, after committing changes, we'll take the additional step to **push** those changes to the remote repository. \n",
    "\n",
    "Let's create a simple text file, add some content, and commit those changes just like before"
   ]
  },
  {
   "cell_type": "code",
   "execution_count": null,
   "metadata": {
    "collapsed": true
   },
   "outputs": [],
   "source": [
    "touch myAnalysisScript.py\n",
    "echo \"here are all of my analyses...\" > myAnalysisScript.py\n",
    "\n",
    "git add *"
   ]
  },
  {
   "cell_type": "code",
   "execution_count": null,
   "metadata": {},
   "outputs": [],
   "source": [
    "git status"
   ]
  },
  {
   "cell_type": "code",
   "execution_count": null,
   "metadata": {},
   "outputs": [],
   "source": [
    "git commit -m \"started working on myAnalysisScript.py\""
   ]
  },
  {
   "cell_type": "code",
   "execution_count": null,
   "metadata": {},
   "outputs": [],
   "source": [
    "git log --oneline"
   ]
  },
  {
   "cell_type": "markdown",
   "metadata": {},
   "source": [
    "We've committed the changes locally, but now we have to push the changes to the remote repository. They basic syntax is\n",
    "\n",
    "```\n",
    "git push <remoteName> <branch>\n",
    "```\n",
    "\n",
    "* **remoteName** is name git assigned to your remote repository when you cloned it. This is *origin* by default\n",
    "* **branch** the branch of your repo you want to push. For now, keep this the default *master* branch"
   ]
  },
  {
   "cell_type": "code",
   "execution_count": null,
   "metadata": {},
   "outputs": [],
   "source": [
    "git push origin master"
   ]
  },
  {
   "cell_type": "markdown",
   "metadata": {},
   "source": [
    "**Success**. You pushed your changes to the remote repository. When you go to the GitHub page for the repository, you should now see the new file we created:"
   ]
  },
  {
   "cell_type": "markdown",
   "metadata": {},
   "source": [
    "![altText](images/newPush.png)"
   ]
  },
  {
   "cell_type": "markdown",
   "metadata": {},
   "source": [
    "### Controlling which files get tracked\n",
    "\n",
    "Sometimes your repository will have files that you don't want **Git** to keep track of. For instance, on OSX, you'll often find annoying `.DS_Store` files in every directory -- they're hidden on OSX, but they appear in your git logs and will appear in your remote repository on **GitHub** and can clutter things up. \n",
    "\n",
    "You may also have data files in your project directory that you want your scripts to access, but that you don't want **Git** to track either because the data files are huge, or they contain private information about your subjects (particularly relevant if you're pushing to a public repository on **GitHub**\n",
    "\n",
    "Thankfully, there's an easy solution. You can create a file named `.gitignore` in the root level of your directory that tells **Git** what files to ignore. Every new line in the file can be the relative path to a file or subdirectory in your repository that you want ignored, and you can include wildcards\n",
    "\n",
    "Let's make a subdirectory in our project where we'll store sensitive information that we don't want shared publicly, and then add some files to it: "
   ]
  },
  {
   "cell_type": "code",
   "execution_count": null,
   "metadata": {
    "collapsed": true
   },
   "outputs": [],
   "source": [
    "mkdir privateData\n",
    "\n",
    "touch privateData/creditCardNumbers.txt\n",
    "touch privateData/socialSecurityNumbers.txt\n",
    "touch privateData/deepestFearsAndAnxieties.txt"
   ]
  },
  {
   "cell_type": "code",
   "execution_count": null,
   "metadata": {},
   "outputs": [],
   "source": [
    "git status"
   ]
  },
  {
   "cell_type": "markdown",
   "metadata": {},
   "source": [
    "Right now **Git** sees that we created a new directory. Next, we'll create a `.gitignore` file and add this new directory to it.\n",
    "\n",
    "Use the wildcard character to tell it to ignore *any* file that is in the privateData directory"
   ]
  },
  {
   "cell_type": "code",
   "execution_count": null,
   "metadata": {
    "collapsed": true
   },
   "outputs": [],
   "source": [
    "echo \"privateData/*\" > .gitignore"
   ]
  },
  {
   "cell_type": "markdown",
   "metadata": {},
   "source": [
    "Now, when we run `git status`, the privateData directory no longer appears"
   ]
  },
  {
   "cell_type": "code",
   "execution_count": null,
   "metadata": {},
   "outputs": [],
   "source": [
    "git status"
   ]
  },
  {
   "cell_type": "markdown",
   "metadata": {},
   "source": [
    "Add and commit the `.gitignore` file to your repository, and then push to the remote and confirm that privateData isn't included"
   ]
  },
  {
   "cell_type": "code",
   "execution_count": null,
   "metadata": {},
   "outputs": [],
   "source": [
    "git add .gitignore\n",
    "git commit -m \"started .gitignore file\"\n",
    "git push origin master"
   ]
  },
  {
   "cell_type": "markdown",
   "metadata": {},
   "source": [
    "![altText](images/gitIgnore.png)"
   ]
  },
  {
   "cell_type": "markdown",
   "metadata": {},
   "source": [
    "Our .gitignore file is there, but not our privateData directory!"
   ]
  },
  {
   "cell_type": "markdown",
   "metadata": {},
   "source": [
    "## Example workflow"
   ]
  },
  {
   "cell_type": "markdown",
   "metadata": {},
   "source": [
    "Git is an incredibly powerful tool with *many* **many** different options. However, only a few simple commands are needed to start using git to version control your small projects. Using them will quickly become like second nature. Here's a basic simple workflow:\n",
    "\n",
    "* Get a repository\n",
    "    * `git init` to create a new local repository\n",
    "    * `git clone` to get a copy of an existing remote repository\n",
    "    * `git pull` to get the most up-to-date version of a remote repository\n",
    "\n",
    "\n",
    "* Make edits to the repository\n",
    "    * `git add *` to add all new files and updated files\n",
    "  \n",
    "  \n",
    "* Commit your changes to create a snapshot\n",
    "    * `git commit`\n",
    "  \n",
    "  \n",
    "* Push your changes to the remote repository\n",
    "    * `git push` "
   ]
  },
  {
   "cell_type": "markdown",
   "metadata": {},
   "source": [
    "## Additional Resources:\n",
    "\n",
    "[Git - the Simple Guide](http://rogerdudler.github.io/git-guide/)\n",
    "\n",
    "[Atlassian Git Tutorials](https://www.atlassian.com/git/tutorials)"
   ]
  }
 ],
 "metadata": {
  "kernelspec": {
   "display_name": "Bash",
   "language": "bash",
   "name": "bash"
  },
  "language_info": {
   "codemirror_mode": "shell",
   "file_extension": ".sh",
   "mimetype": "text/x-sh",
   "name": "bash"
  }
 },
 "nbformat": 4,
 "nbformat_minor": 2
}
